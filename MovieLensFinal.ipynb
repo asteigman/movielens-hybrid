{
 "cells": [
  {
   "cell_type": "markdown",
   "metadata": {},
   "source": [
    "# Final Project: MovieLens Recommender System\n",
    "Amanda Steigman (as5937), Suman Tripathy (st3275), Romane Goldmuntz (rsg2163)"
   ]
  },
  {
   "cell_type": "markdown",
   "metadata": {},
   "source": [
    "## 1. Business Objectives"
   ]
  },
  {
   "cell_type": "markdown",
   "metadata": {},
   "source": [
    "Using the MovieLens dataset, our goal is to build a hybrid recommender system that can recommend a \"Top 10\" movie list for each user. We choose to give the user a larger selection of potential movies to choose from, rather than, for example, showing a \"Top 5,\" in order to improve the chances that at least one of the movies we show will be relevant to the user. It is also common for people to scroll through many movie and show suggestions on platforms like Netflix and Amazon Prime before choosing a certain one.\n",
    "\n",
    "\n",
    "We compare our hybrid approach to two baselines - one in which we simply predict that a user will rate a movie as the average rating the movie has received across all users, and one item-based collaborative filtering recommender. We explore using this item-based recommender in our hybrid system as well.\n",
    "\n",
    "With the user in mind, as mentioned above, for our baseline collaborative filtering algorithm and our first attempt at fitting a hybrid system, we use item-based filtering. The reasons behind that choice are three-fold. First, the number of items is usually much lower than the number of users and new items are added less frequently than new users, which makes the computation time for item-based collaborative filtering much faster than user-based collaborative filtering. The stability of item-based models is also higher than user-based filtering because items will likely overlap more often than users. Finally, we considered interpretability: item-based collaborative filtering enables us to provide the user with an intuitive explanation, such as \"Because you liked movie X, you may enjoy movie Y as well.\"\n",
    "\n",
    "For our hybrid recommender system, we try three different approaches, with all three including the item-based collaborative filtering because of its strong performance. In our model, different types of users are routed through different recommendation algorithms. We define three broad types of users: (1) those who rarely watch movies (i.e. those at or below the 25th percentile for number of movies watched), (2) the typical user who has watched a moderate number of movies (i.e. those between the 25th and 75th percentile), and (3) the frequent movie watcher (i.e. users who have watched at or above the 75th percentile of movies). Our cutoff to be included in the infrequent movie watcher bin is 16, and our threshold to be included in the frequent movie watcher bin is 41.\n",
    "\n",
    "The switching system is a type of parallel ensemble model which allows us to change the algorithm we use based on individuals. In this way, we can also change the way we are recommending movies for a particular user if his \"type\" changes as he watches more movies. \n",
    "\n",
    "In the three hybrid systems we build, we integrate various combinations of Item-Based Collaborative Filtering, Content-Based Recommendation, and Autoencoders. We only use autoencoders to recommend movies to the frequent (type 3) users. Autoencoders, which create latent representations using an encoder-decoder framework, allow us to obtain dense embeddings and are thus useful for making predictions in high-dimensional spaces (i.e. ones where users have watched a large number of movies). In our first and third hybrid system, we use a content-based algorithm to recommend movies to our infrequent users and item-based collaborative filter to recommend movies to our typical users respectively. We are curious to see if this helps relieve the cold start problem for Item-Based Collaborative Filtering, which typically does not perform well on users with few ratings. However, in our second hybrid system, we once again use Collaborative Filtering to recommend movies to both our infrequent and typical users.\n",
    "\n",
    "In the content-based recommender, we include additional information about each movie (explored below) to represent them as high-dimensional vectors. We thought this may be useful if a user has only watched a small number of movies since it doesn't depend on other movies watched and rated, and instead allows us to learn more about the users' preferences in terms of genre, actors, directors, etc. These movie vectors are used to create personalized user profiles for the purpose of making recommendations, which we will leverage Approximate Nearest Neighbors (ANN) to do. Since searching for all of the closest movies in a high-dimensional space is computationally expensive, ANN will help with scaling our recommender system. With ANN, we take a tree-based approach that builds randomized trees partitioned along random dimensions from our data and searches them in parallel to save time. Content-based recommenders are also a good choice of algorithm with the user in mind, since they are easily explainable. For example, additional information about a movie can allow us to tell a user, \"You like comedies with female leads, so we recommend you watch Movie Z.\"\n",
    "\n",
    "We believe the content-based algorithm may also be useful for our typical users since we still have less information available to make recommendations to them than we do for the frequent users, which is why we test it for User Types 1 and 2. Additionally, it is possible that infrequent and typical users are actually quite similar and many of the infrequent users may become typical users over time, so the same approach for recommendations may be useful for both group. However, we also try using the item-based CF for these user groups to account for the possibility that including too much information about too many movies may lead to recommendations that are not generalizable.\n",
    "\n",
    "Since we are working with a huge dataset - around 27 million movie ratings - and because of the inherent sparsity of user-items matrices (i.e. most users do not rate most items) that make recommendations more difficult, we decide to work with a sample of the movie ratings. Because of the dependency between users and items, we cannot randomly sample the dataset. Therefore, we want to include only users who have rated at least a certain number of movies as well as only include movies that have received ratings from at least a certain number of users. We will explore this further in the Sampling section of our report. This will help improve the density of our user-item matrix and make it easier for our recommenders to learn relationships between users and items.\n",
    "\n",
    "As we sample, we choose strategies that follow certain business logic. As mentioned above, we want to ensure as dense a user-item matrix as possible. So, we look at the mean user ratings per movie and the mean number of ratings per user. We sample from the subsets of movies and users, each with above average numbers of ratings respectively. By doing so, we do not only focus on the most popular movies and thus avoid adding bias into our model.\n",
    "\n",
    "We also considered what performance requirements our recommendation system needed to fulfill. We generally assume that users may watch TV / movies after work daily, so we want to pre-compute recommendations offline but we also assume there is no major time crunch. Therefore, we don't worry greatly about space or time constraints, and we simply build these models as offline computations that should simply appear when a user is searching for a movie.\n",
    "\n",
    "Before we begin, we import all necessary packages and start a Spark session."
   ]
  },
  {
   "cell_type": "code",
   "execution_count": 1,
   "metadata": {
    "id": "8diZJDoriTOz"
   },
   "outputs": [],
   "source": [
    "import pandas as pd\n",
    "import numpy as np\n",
    "from sklearn.model_selection import train_test_split\n",
    "import pandas as pd\n",
    "import numpy as np\n",
    "import matplotlib.pyplot as plt\n",
    "from sklearn.model_selection import train_test_split\n",
    "from pyspark.ml.evaluation import RegressionEvaluator\n",
    "from pyspark.ml.recommendation import ALS, ALSModel\n",
    "from pyspark.sql import Row\n",
    "from sklearn.metrics import mean_squared_error\n",
    "from pyspark.ml.tuning import CrossValidator, ParamGridBuilder, TrainValidationSplit, CrossValidatorModel\n",
    "from pyspark.sql import SparkSession\n",
    "from pyspark.sql.types import *\n",
    "from pyspark.sql.types import StringType,IntegerType,DoubleType\n",
    "from pyspark.sql.functions import col, countDistinct\n",
    "from pyspark.sql import functions\n",
    "from collections import defaultdict\n",
    "from surprise.prediction_algorithms import KNNWithMeans\n",
    "from surprise.model_selection import cross_validate\n",
    "from surprise import accuracy\n",
    "import pickle\n",
    "import random\n",
    "import time\n",
    "import seaborn\n",
    "from surprise import Reader, Dataset\n",
    "from IPython.display import HTML, display\n",
    "import tabulate\n",
    "import random"
   ]
  },
  {
   "cell_type": "code",
   "execution_count": 2,
   "metadata": {},
   "outputs": [],
   "source": [
    "spark = SparkSession.builder.appName(\"PersProj\").getOrCreate()"
   ]
  },
  {
   "cell_type": "markdown",
   "metadata": {},
   "source": [
    "## 2. Sampling"
   ]
  },
  {
   "cell_type": "markdown",
   "metadata": {},
   "source": [
    "### 2.1 Explore the Data"
   ]
  },
  {
   "cell_type": "markdown",
   "metadata": {},
   "source": [
    "First, we look at the total number of users and movies included in the ratings dataset by MovieLens. Since each row is a user-movie rating pair, every user included must have rated at least one movie and every movie included must have been rated by at least one user. We see below that there are 283,228 unique users who have rated at least one movie and 53,889 movies that have at least one rating. For our purposes, we only need to include at least 20,000 users and 1,000 movies. Therefore we sample the data based on our business rules as stated above. "
   ]
  },
  {
   "cell_type": "code",
   "execution_count": 3,
   "metadata": {
    "colab": {
     "base_uri": "https://localhost:8080/"
    },
    "id": "bSJtYleRibwf",
    "outputId": "52c030fd-e4ce-498b-e3d6-bc7d7dfe805f",
    "scrolled": true
   },
   "outputs": [
    {
     "name": "stdout",
     "output_type": "stream",
     "text": [
      "(27753444, 4)\n",
      "Index(['userId', 'movieId', 'rating', 'timestamp'], dtype='object')\n",
      "283228 unique users\n",
      "53889 unique movies\n"
     ]
    }
   ],
   "source": [
    "# Contains users and their respective movie ratings (float, out of 5.0) and timestamp of the rating\n",
    "ratings = pd.read_csv(\"inputs/ratings.csv\")\n",
    "print(ratings.shape)\n",
    "print(ratings.columns)\n",
    "print(len(ratings['userId'].unique()), \"unique users\")\n",
    "print(len(ratings['movieId'].unique()), \"unique movies\")"
   ]
  },
  {
   "cell_type": "markdown",
   "metadata": {},
   "source": [
    "Next, we look at the distribution of ratings by users. Some users really did only rate one movie, and, on the other extreme, the maximum number of movies rated by a user was close to 24,000 (almost half of the movies in our dataset!). The mean number of movies rated was around 100. When we subset our data before sampling, we will use the mean number of movies rated as our minimum threshold for inclusion."
   ]
  },
  {
   "cell_type": "code",
   "execution_count": 4,
   "metadata": {},
   "outputs": [
    {
     "name": "stdout",
     "output_type": "stream",
     "text": [
      "Min # of ratings: 1\n",
      "Max # of ratings: 23715\n",
      "Avg # of ratings: 97.98976089934611\n"
     ]
    }
   ],
   "source": [
    "# group by users & count their number of ratings\n",
    "ratings_users = ratings.groupby('userId').size()\n",
    "print('Min # of ratings:', min(ratings_users))\n",
    "print('Max # of ratings:', max(ratings_users))\n",
    "print('Avg # of ratings:', float(sum(ratings_users))/len(ratings_users))"
   ]
  },
  {
   "cell_type": "markdown",
   "metadata": {},
   "source": [
    "Moving forward, for movies, we can see that 1 was the minimum number of ratings received. The maximum number of ratings a movie received was around 98,000, meaning nearly 35% of users rated that movie. On average, a movie received 515 ratings (meaning it was rated by around 0.2% of users). Any movie that received at least this number of ratings (515) can be included in our sample."
   ]
  },
  {
   "cell_type": "code",
   "execution_count": 5,
   "metadata": {},
   "outputs": [
    {
     "name": "stdout",
     "output_type": "stream",
     "text": [
      "Min # of ratings: 1\n",
      "Max # of ratings: 97999\n",
      "Avg # of ratings: 515.0113010076268\n"
     ]
    }
   ],
   "source": [
    "# group by movies & count their number of ratings\n",
    "ratings_movies = ratings.groupby('movieId').size()\n",
    "print('Min # of ratings:', min(ratings_movies))\n",
    "print('Max # of ratings:', max(ratings_movies))\n",
    "print('Avg # of ratings:', float(sum(ratings_movies))/len(ratings_movies))"
   ]
  },
  {
   "cell_type": "markdown",
   "metadata": {},
   "source": [
    "### 2.2 Obtain sample and get user-items matrix"
   ]
  },
  {
   "cell_type": "markdown",
   "metadata": {},
   "source": [
    "We first subset the ratings dataset by filtering based on the mean number of movie ratings and then based on the mean number of user ratings. The data is very skewed because there are many movies with very few reviews. Therefore, by subsetting based on the mean, we are picking a less sparse dataset that is also not just the most popular movies. "
   ]
  },
  {
   "cell_type": "code",
   "execution_count": 6,
   "metadata": {
    "colab": {
     "base_uri": "https://localhost:8080/",
     "height": 191
    },
    "id": "r4D0c5CkJXIV",
    "outputId": "1d0fc4b9-da4f-4808-d678-e29f583b0152"
   },
   "outputs": [
    {
     "data": {
      "text/html": [
       "<div>\n",
       "<style scoped>\n",
       "    .dataframe tbody tr th:only-of-type {\n",
       "        vertical-align: middle;\n",
       "    }\n",
       "\n",
       "    .dataframe tbody tr th {\n",
       "        vertical-align: top;\n",
       "    }\n",
       "\n",
       "    .dataframe thead th {\n",
       "        text-align: right;\n",
       "    }\n",
       "</style>\n",
       "<table border=\"1\" class=\"dataframe\">\n",
       "  <thead>\n",
       "    <tr style=\"text-align: right;\">\n",
       "      <th></th>\n",
       "      <th>userId</th>\n",
       "      <th>movieId</th>\n",
       "      <th>rating</th>\n",
       "      <th>timestamp</th>\n",
       "    </tr>\n",
       "  </thead>\n",
       "  <tbody>\n",
       "    <tr>\n",
       "      <td>42</td>\n",
       "      <td>4</td>\n",
       "      <td>1</td>\n",
       "      <td>4.0</td>\n",
       "      <td>1113765937</td>\n",
       "    </tr>\n",
       "    <tr>\n",
       "      <td>43</td>\n",
       "      <td>4</td>\n",
       "      <td>2</td>\n",
       "      <td>4.0</td>\n",
       "      <td>1113767306</td>\n",
       "    </tr>\n",
       "    <tr>\n",
       "      <td>44</td>\n",
       "      <td>4</td>\n",
       "      <td>5</td>\n",
       "      <td>2.0</td>\n",
       "      <td>1123990453</td>\n",
       "    </tr>\n",
       "    <tr>\n",
       "      <td>45</td>\n",
       "      <td>4</td>\n",
       "      <td>6</td>\n",
       "      <td>4.5</td>\n",
       "      <td>1113767242</td>\n",
       "    </tr>\n",
       "    <tr>\n",
       "      <td>46</td>\n",
       "      <td>4</td>\n",
       "      <td>10</td>\n",
       "      <td>4.0</td>\n",
       "      <td>1113765995</td>\n",
       "    </tr>\n",
       "  </tbody>\n",
       "</table>\n",
       "</div>"
      ],
      "text/plain": [
       "    userId  movieId  rating   timestamp\n",
       "42       4        1     4.0  1113765937\n",
       "43       4        2     4.0  1113767306\n",
       "44       4        5     2.0  1123990453\n",
       "45       4        6     4.5  1113767242\n",
       "46       4       10     4.0  1113765995"
      ]
     },
     "execution_count": 6,
     "metadata": {},
     "output_type": "execute_result"
    }
   ],
   "source": [
    "m = ratings.groupby('movieId').size()\n",
    "movies_with_many_ratings = list(m[m > m.mean()].index)\n",
    "movies_with_many_ratings = ratings.loc[ratings['movieId'].isin(movies_with_many_ratings)]\n",
    "\n",
    "u = ratings.groupby('userId').size()\n",
    "user_subset = list(u[u > u.mean()].index)\n",
    "user_ratings = movies_with_many_ratings.loc[movies_with_many_ratings['userId'].isin(user_subset)]\n",
    "user_ratings.head()"
   ]
  },
  {
   "cell_type": "markdown",
   "metadata": {},
   "source": [
    "From these movies, we then randomly sample lists of 1000 movie IDs and 20000 user IDs from the filtered dataset and use those IDs to get our sample."
   ]
  },
  {
   "cell_type": "code",
   "execution_count": 7,
   "metadata": {
    "colab": {
     "base_uri": "https://localhost:8080/"
    },
    "id": "MatSjwzoLYgo",
    "outputId": "9c3b1468-2841-4e27-a584-3146dfd32a6a"
   },
   "outputs": [
    {
     "data": {
      "text/plain": [
       "(1053727, 4)"
      ]
     },
     "execution_count": 7,
     "metadata": {},
     "output_type": "execute_result"
    }
   ],
   "source": [
    "sample_movieIds = random.sample(list(user_ratings['movieId'].unique()), 1000)\n",
    "sample_ratings = user_ratings.loc[user_ratings['movieId'].isin(sample_movieIds)]\n",
    "sample_userIds = random.sample(list(sample_ratings['userId'].unique()), 20000)\n",
    "sample_ratings = sample_ratings.loc[sample_ratings['userId'].isin(sample_userIds)]\n",
    "sample_ratings.to_csv(\"sample_ratings.csv\")\n",
    "sample_ratings.shape"
   ]
  },
  {
   "cell_type": "code",
   "execution_count": 8,
   "metadata": {},
   "outputs": [
    {
     "name": "stdout",
     "output_type": "stream",
     "text": [
      "Unique movies 1000\n",
      "Unique users 20000\n"
     ]
    }
   ],
   "source": [
    "print(\"Unique movies\", len(sample_ratings['movieId'].unique()))\n",
    "print(\"Unique users\", len(sample_ratings['userId'].unique()))"
   ]
  },
  {
   "cell_type": "markdown",
   "metadata": {},
   "source": [
    "Finally, we want to see how our sample's density compares to our original sparse data's density. To do this, we must convert the sampled ratings dataset into a user-item matrix. We see that the new density of our user-items matrix is about 5% as compared to our previous density of about 0.2%. This is clearly a significant improvement."
   ]
  },
  {
   "cell_type": "code",
   "execution_count": 9,
   "metadata": {
    "colab": {
     "base_uri": "https://localhost:8080/",
     "height": 238
    },
    "id": "DKjeThUFi3Tx",
    "outputId": "6d05461f-1e95-4d43-e09e-d077aee4f585"
   },
   "outputs": [
    {
     "name": "stdout",
     "output_type": "stream",
     "text": [
      "5.268635%\n"
     ]
    }
   ],
   "source": [
    "user_movies = sample_ratings.pivot_table(index = 'userId', columns = 'movieId', values = 'rating')\n",
    "\n",
    "# calculate density\n",
    "nulls = user_movies.isnull().sum().sum()\n",
    "density = (user_movies.shape[0]*user_movies.shape[1]-nulls)/(user_movies.shape[0]*user_movies.shape[1])*100\n",
    "print(str(density)+'%')"
   ]
  },
  {
   "cell_type": "markdown",
   "metadata": {},
   "source": [
    "### 2.3 Webscraping additional data\n",
    "\n",
    "Since we are building a content-based recommender system, we needed to get additional data on the movies included in our sample. The MovieLens dataset comes with tags for each movie, and we combined this with named links and category metadata about the movies that we scraped from Wikipedia pages about each movie. The Wikipedia notebook contains the work done to scrape Wikipedia and clean its output, so this step will be skipped here and we simply read in the data table we generated from that Wikipedia notebook. After removing extremely rare and extremely common tags, as neither would be useful for prediction, we had around 2500 content-based tags describing the movies in our sample. These tags include information about genre, themes, release year, awards nominated for, location, etc."
   ]
  },
  {
   "cell_type": "code",
   "execution_count": 3,
   "metadata": {},
   "outputs": [],
   "source": [
    "#get top tags\n",
    "movie_vecs = pd.read_csv('inputs/movie_tag_wiki_vecs.csv', index_col=0)"
   ]
  },
  {
   "cell_type": "code",
   "execution_count": 4,
   "metadata": {},
   "outputs": [],
   "source": [
    "movie_tags = movie_vecs.sum(axis=0).to_frame()\n",
    "movie_tags.columns = ['Frequency']"
   ]
  },
  {
   "cell_type": "markdown",
   "metadata": {},
   "source": [
    "We can see below that the tags have a long right tail - there are a small number of tags that appear more than 200 times, but the majority of tags appear between 20 and 60 times."
   ]
  },
  {
   "cell_type": "code",
   "execution_count": 5,
   "metadata": {},
   "outputs": [
    {
     "data": {
      "image/png": "[encoded data removed]",
      "text/plain": [
       "<Figure size 432x288 with 1 Axes>"
      ]
     },
     "metadata": {
      "needs_background": "light"
     },
     "output_type": "display_data"
    }
   ],
   "source": [
    "#distribution of tag freqs\n",
    "seaborn.histplot(movie_tags[movie_tags['Frequency']<1500]['Frequency'],bins=100)\n",
    "plt.title('Distribution of Movies Per Tag')\n",
    "plt.show()"
   ]
  },
  {
   "cell_type": "markdown",
   "metadata": {},
   "source": [
    "We next look at the number of tags per movie, which also has a right tail, albeit a smaller one. The majority of movies, though, have between 45 and 200 tags associated with them."
   ]
  },
  {
   "cell_type": "code",
   "execution_count": 6,
   "metadata": {},
   "outputs": [],
   "source": [
    "#count of tags per movie\n",
    "tags_per_movie = movie_vecs.sum(axis=1).to_frame()\n",
    "tags_per_movie.columns = ['Frequency']"
   ]
  },
  {
   "cell_type": "code",
   "execution_count": 7,
   "metadata": {},
   "outputs": [
    {
     "data": {
      "image/png": "[encoded data removed]",
      "text/plain": [
       "<Figure size 432x288 with 1 Axes>"
      ]
     },
     "metadata": {
      "needs_background": "light"
     },
     "output_type": "display_data"
    }
   ],
   "source": [
    "seaborn.histplot(tags_per_movie['Frequency'],bins=100)\n",
    "plt.title('Distribution of Tags Per Movie')\n",
    "plt.show()"
   ]
  },
  {
   "cell_type": "markdown",
   "metadata": {},
   "source": [
    "### 2.4 Define metrics\n",
    "Here, we define the three important metrics that we will use to evaluate and improve our models: precision, recall, and novelty.\n",
    "\n",
    "Since we are interested in measuring our success in movie recommendation, we include precision as a metric for evaluating our recommender systems. In other words, we care more about ensuring that we are showing the users a high ratio of movies that they will enjoy as opposed to the specific numerical rating that a user will give a movie. Below, we define precision as the proportion, out of all of the recommended movies we show to a user (Top 10), that the user will find relevant. We define a movie as \"relevant\" if the user has given the movie a rating of at least 3.5. Our precision is improved when we predict a movie that the user also rated as \"relevant.\" By including movies rated 3.5 or above as opposed to just movies rated 5 - which might be a favorite movie for a given user - for precision, we include a broader spectrum of movies and therefore have higher diversity in our predictions.\n",
    "\n",
    "We also focus on recall, a measure of how many good movies we were able to recommend out of all the movies the user enjoyed from the test set. We count how many movies that we recommend are rated >= 3.5 by the user within the training set and we divide that by how many movies are rated >= 3.5 by the user in the training set TOTAL (regardless of whether we recommended them or not).\n",
    "\n",
    "The last and perhaps most interesting metric we focus on is novelty. There is no industry standard as to how to define novelty, so we sifted through literature and chose our own. We define novelty on an individual movie basis and say a movie is \"novel\" if it is not very commonly recommended to people. Therefore, the novelty of movie i is defined as 1 - ( (# users who were recommended movie i) / (all users)). Thus, we calculate novelty per movie. Then, for each user and his recommended movie list, we sum together all movie novelties. Finally, we average all users' overall novelty scores to end up with a single final value for our movie predictions' novelty. A HIGHER novelty metric is better!\n",
    "\n",
    "As a sidenote, we mention that for our Autoencoder model, we looked at Masked Mean Squared Error (MMSE) and Masked Root Mean Squared Error (MRMSE). However, because it was trained on a different sized dataset and because the content-based model does not output exact predicted ratings, we do not compare MMSE or MRMSE across models. To look at these statistics for the Autoencoders, please check the Deep_Learning_Model_Autoencoders.ipynb file. We also use RMSE to tune our item-based CF algorithm and aim to minimize RMSE on the validation set to pick our best model from our gridsearch.\n"
   ]
  },
  {
   "cell_type": "code",
   "execution_count": 33,
   "metadata": {},
   "outputs": [],
   "source": [
    "def precision(predictions_dict,test_ratings):\n",
    "    precisions = list()\n",
    "    for user, pred_list in predictions_dict.items():\n",
    "        TP = 0\n",
    "        FP = 0\n",
    "        for item in pred_list:\n",
    "            temp_df = test_ratings[(test_ratings['userId']==user) & (test_ratings['movieId']==item)]\n",
    "            temp_df = temp_df.reset_index()\n",
    "            if len(temp_df)>0 and temp_df.loc[0,'rating']>= 3.5:\n",
    "                    TP +=1\n",
    "            else:\n",
    "                FP += 1       \n",
    "        precisions.append(float(TP)/(TP+FP))    # return precision for user\n",
    "    return np.mean(precisions)"
   ]
  },
  {
   "cell_type": "code",
   "execution_count": 34,
   "metadata": {},
   "outputs": [],
   "source": [
    "def recall(predictions_dict,test_ratings):\n",
    "    recall = list()\n",
    "    for user, pred_list in predictions_dict.items():\n",
    "        TP = 0\n",
    "        P = 0\n",
    "        temp_df = test_ratings[test_ratings['userId']==user]\n",
    "        for row in temp_df.iterrows():\n",
    "            if row[1]['movieId'] in pred_list and row[1]['rating']>= 3.5:\n",
    "                TP += 1\n",
    "            if row[1]['rating']>= 3.5:\n",
    "                P += 1\n",
    "        if not(TP == 0 and P == 0):\n",
    "            recall.append(float(TP)/(P))\n",
    "    return np.mean(recall)"
   ]
  },
  {
   "cell_type": "code",
   "execution_count": 35,
   "metadata": {},
   "outputs": [],
   "source": [
    "def novelty(predictions_dict):\n",
    "    movie_rec_counts = defaultdict(int)\n",
    "    for user, pred_list in predictions_dict.items():\n",
    "        for movie in pred_list:\n",
    "            movie_rec_counts[movie] += 1\n",
    "    user_count = len(predictions_dict)\n",
    "    \n",
    "    # calculate each movie's novelty score\n",
    "    for movie, count in movie_rec_counts.items():\n",
    "        movie_rec_counts[movie] = 1 - (float(count)/(user_count)) # 1 - count(users recommended movie)/count(all users) \n",
    "    \n",
    "    # for each list of recommendations per user, sum up all movie novelty scores, then return average over all users\n",
    "    user_novelty_scores = []\n",
    "    for user, pred_list in predictions_dict.items():\n",
    "        user_novelty = 0\n",
    "        for movie in pred_list:\n",
    "            user_novelty += movie_rec_counts[movie]\n",
    "        user_novelty_scores.append(user_novelty)\n",
    "    return np.mean(user_novelty_scores)"
   ]
  },
  {
   "cell_type": "markdown",
   "metadata": {},
   "source": [
    "### 3. Create a baseline model\n",
    "For each movie, we take the average rating across all users and simply use this average as our baseline recommendation rating. We calculate RMSE, precision, and coverage so that we can have those metrics to compare with our model."
   ]
  },
  {
   "cell_type": "code",
   "execution_count": 11,
   "metadata": {},
   "outputs": [],
   "source": [
    "#read in training, validation, and test data\n",
    "train_ratings = pd.read_csv('inputs/train_sample_ratings.csv', index_col=0)\n",
    "val_ratings = pd.read_csv('inputs/val_sample_ratings.csv', index_col=0)\n",
    "test_ratings = pd.read_csv('inputs/test_sample_ratings.csv', index_col=0)\n",
    "#combine training and validation for baseline model since we are not crossvalidating that\n",
    "train_valid = pd.concat([train_ratings,val_ratings])"
   ]
  },
  {
   "cell_type": "code",
   "execution_count": 67,
   "metadata": {},
   "outputs": [],
   "source": [
    "#get average rating for each movie from train and use it as prediction for test\n",
    "avg_rating = train_valid.groupby(\"movieId\")['rating'].mean().rename(\"prediction\")\n",
    "train_baseline = train_valid.join(avg_rating, on='movieId')\n",
    "test_baseline = test_ratings.join(avg_rating, on='movieId')"
   ]
  },
  {
   "cell_type": "code",
   "execution_count": 30,
   "metadata": {},
   "outputs": [],
   "source": [
    "#get dictionary to use for precision and recall\n",
    "test_baseline_temp = test_baseline.sort_values(['userId','prediction'],ascending=False).groupby('userId').head(10)\n",
    "test_baseline_temp = test_baseline_temp.groupby(['userId'])['movieId'].agg(lambda x: list(x))\n",
    "test_baseline_dict = {}\n",
    "for user, watched_movies in zip(test_baseline_temp.index, test_baseline_temp):\n",
    "    test_baseline_dict[user] = watched_movies"
   ]
  },
  {
   "cell_type": "code",
   "execution_count": 49,
   "metadata": {},
   "outputs": [],
   "source": [
    "baseline_precision = precision(test_baseline_dict, test_baseline)\n",
    "baseline_recall = recall(test_baseline_dict, test_baseline)\n",
    "baseline_novelty = novelty(test_baseline_dict)"
   ]
  },
  {
   "cell_type": "code",
   "execution_count": 50,
   "metadata": {},
   "outputs": [
    {
     "name": "stdout",
     "output_type": "stream",
     "text": [
      "Baseline test precision = 0.71\n",
      "Baseline test recall = 0.81\n",
      "Baseline test novelty = 8.23\n"
     ]
    }
   ],
   "source": [
    "print(\"Baseline test precision = \" + str(round(baseline_precision, 2)))\n",
    "print(\"Baseline test recall = \" + str(round(baseline_recall, 2)))\n",
    "print(\"Baseline test novelty = \" + str(round(baseline_novelty, 2)))"
   ]
  },
  {
   "cell_type": "markdown",
   "metadata": {},
   "source": [
    "Above, we see that our baseline model has a precision of .71, a recall of .81, and a novelty score of 8.23. Let us see how these figures change and hopefully improve in the models ahead."
   ]
  },
  {
   "cell_type": "markdown",
   "metadata": {
    "id": "dP6HkmNmSVfB"
   },
   "source": [
    "### 4. Memory-Based Collaborative Filtering: Item-Based Neighborhood Method\n",
    "\n",
    "\n",
    "\n"
   ]
  },
  {
   "cell_type": "code",
   "execution_count": 62,
   "metadata": {
    "colab": {
     "base_uri": "https://localhost:8080/"
    },
    "id": "hJCKdIMncS9P",
    "outputId": "0c0211a5-526c-4203-de51-ec591937d856"
   },
   "outputs": [
    {
     "data": {
      "text/plain": [
       "[(4, 5, 2.0, None),\n",
       " (4, 2797, 1.5, None),\n",
       " (4, 5010, 5.0, None),\n",
       " (4, 34319, 4.5, None),\n",
       " (4, 736, 3.5, None),\n",
       " (4, 39435, 0.5, None),\n",
       " (4, 1370, 4.0, None),\n",
       " (4, 1792, 4.0, None),\n",
       " (4, 36, 3.5, None),\n",
       " (4, 4308, 0.5, None)]"
      ]
     },
     "execution_count": 62,
     "metadata": {},
     "output_type": "execute_result"
    }
   ],
   "source": [
    "# drop extra column\n",
    "train_ratings = train_valid[['userId', 'movieId', 'rating']]\n",
    "test_ratings = test_ratings[['userId', 'movieId', 'rating']]\n",
    "\n",
    "# transfer to the right format for suprise package\n",
    "reader = Reader(rating_scale=(min(train_ratings.rating), max(train_ratings.rating)))\n",
    "ratings = Dataset.load_from_df(train_ratings, reader)\n",
    "reader = Reader(rating_scale=(0.5, 5))\n",
    "ratings_test = Dataset.load_from_df(test_ratings, reader)\n",
    "\n",
    "# to visualize (not head() in suprise dataset)\n",
    "raw_ratings = ratings.raw_ratings\n",
    "raw_ratings[:10]"
   ]
  },
  {
   "cell_type": "markdown",
   "metadata": {
    "id": "ost6kOUscRXN"
   },
   "source": [
    "#### 4.1 Best Model via Cross-Validation\n",
    "\n",
    "In this section, we implement our item-based collaborative filtering using a neighborhood-based approach. To define a neighborhood of items, we refer to two different hyperparameters: the similarity measure and the number of items within one neighborhood. \n",
    "\n",
    "The similarity measure defines how close two items are to each other. It can be computed in many different ways, but we decided to focus on cosine and pearson similarity, which are defined below. The reason behind this choice is that both pearson and cosine help mitigate the bias towards popular items and, since we removed the least popular movies from our dataset, our recommender system shouldn't recommend niche items, which is one of the drawbacks of these measures.  \n",
    "\n",
    "> ${Cosine}(i, j)$ = $\\frac{\\sum_{k \\in I_u \\cap I_v} r_{uk} r_{vk}}{\\sqrt{\\sum_{k \\in I_u \\cap I_v}r_{uk}^2} \\sqrt{\\sum_{k \\in I_u \\cap I_v}r_{vk}^2}}$\n",
    "\n",
    "\n",
    "\n",
    "> ${Pearson}(i, j)$ = $\\frac{\\sum_{u \\in U_{ij}} (r_{ui} - \\mu_i)(r_{uj}-\\mu_j)}{\\sqrt{\\sum_{k \\in U_{ij}}(r_{ui} - \\mu_i)^2} \\sqrt{\\sum_{k \\in U_{ij}}(r_{uj} - \\mu_j)^2}}$\n",
    "\n",
    "\n",
    "The number of neighbours that we want to explore range between 5 and 50 with a distance of 5. We added 500 to the sample as a sanity check, to ensure that we shouldn't explore a completely different range of values. \n",
    "\n",
    "To define our optimal hyperparameters for our item-based collaborative filtering, we use cross-validation and gridsearch over our training set. The optimal hyperparameters ared selected based on their RMSE."
   ]
  },
  {
   "cell_type": "code",
   "execution_count": 69,
   "metadata": {
    "id": "sp5Q-yebcIoH"
   },
   "outputs": [],
   "source": [
    "# Cross-validation\n",
    "def model_cv_item(sim_measure, k_neighb, data):\n",
    "    model_sim = KNNWithMeans(sim_options ={'name': sim_measure, 'user_based':False}, k = k_neighb)\n",
    "    cv_sim = cross_validate(model_sim, data, measures = ['RMSE'], cv=5, verbose=False)\n",
    "\n",
    "    return cv_sim['test_rmse']"
   ]
  },
  {
   "cell_type": "code",
   "execution_count": 70,
   "metadata": {
    "id": "LX1fVDMxdIcQ"
   },
   "outputs": [],
   "source": [
    "# Gridsearch to tune hyperparameters\n",
    "def gridSearch(k_param, sim_param, data):\n",
    "    mean_scores = []\n",
    "\n",
    "    for k in k_param:\n",
    "        mean_scores.append(np.mean(model_cv_item(sim_param, k, data)))\n",
    "  \n",
    "    best_ind = np.argmin(mean_scores)\n",
    "    best_k = k_param[best_ind]\n",
    "    best_rmse = mean_scores[best_ind]\n",
    "\n",
    "    return mean_scores, best_rmse, best_k"
   ]
  },
  {
   "cell_type": "code",
   "execution_count": 71,
   "metadata": {
    "id": "UVj9OcXEdJdi",
    "jupyter": {
     "outputs_hidden": true
    },
    "scrolled": true
   },
   "outputs": [
    {
     "name": "stdout",
     "output_type": "stream",
     "text": [
      "Computing the cosine similarity matrix...\n",
      "Done computing similarity matrix.\n",
      "Computing the cosine similarity matrix...\n",
      "Done computing similarity matrix.\n",
      "Computing the cosine similarity matrix...\n",
      "Done computing similarity matrix.\n",
      "Computing the cosine similarity matrix...\n",
      "Done computing similarity matrix.\n",
      "Computing the cosine similarity matrix...\n",
      "Done computing similarity matrix.\n",
      "Computing the cosine similarity matrix...\n",
      "Done computing similarity matrix.\n",
      "Computing the cosine similarity matrix...\n",
      "Done computing similarity matrix.\n",
      "Computing the cosine similarity matrix...\n",
      "Done computing similarity matrix.\n",
      "Computing the cosine similarity matrix...\n",
      "Done computing similarity matrix.\n",
      "Computing the cosine similarity matrix...\n",
      "Done computing similarity matrix.\n",
      "Computing the cosine similarity matrix...\n",
      "Done computing similarity matrix.\n",
      "Computing the cosine similarity matrix...\n",
      "Done computing similarity matrix.\n",
      "Computing the cosine similarity matrix...\n",
      "Done computing similarity matrix.\n",
      "Computing the cosine similarity matrix...\n",
      "Done computing similarity matrix.\n",
      "Computing the cosine similarity matrix...\n",
      "Done computing similarity matrix.\n",
      "Computing the cosine similarity matrix...\n",
      "Done computing similarity matrix.\n",
      "Computing the cosine similarity matrix...\n",
      "Done computing similarity matrix.\n",
      "Computing the cosine similarity matrix...\n",
      "Done computing similarity matrix.\n",
      "Computing the cosine similarity matrix...\n",
      "Done computing similarity matrix.\n",
      "Computing the cosine similarity matrix...\n",
      "Done computing similarity matrix.\n",
      "Computing the cosine similarity matrix...\n",
      "Done computing similarity matrix.\n",
      "Computing the cosine similarity matrix...\n",
      "Done computing similarity matrix.\n",
      "Computing the cosine similarity matrix...\n",
      "Done computing similarity matrix.\n",
      "Computing the cosine similarity matrix...\n",
      "Done computing similarity matrix.\n",
      "Computing the cosine similarity matrix...\n",
      "Done computing similarity matrix.\n",
      "Computing the cosine similarity matrix...\n",
      "Done computing similarity matrix.\n",
      "Computing the cosine similarity matrix...\n",
      "Done computing similarity matrix.\n",
      "Computing the cosine similarity matrix...\n",
      "Done computing similarity matrix.\n",
      "Computing the cosine similarity matrix...\n",
      "Done computing similarity matrix.\n",
      "Computing the cosine similarity matrix...\n",
      "Done computing similarity matrix.\n",
      "Computing the cosine similarity matrix...\n",
      "Done computing similarity matrix.\n",
      "Computing the cosine similarity matrix...\n",
      "Done computing similarity matrix.\n",
      "Computing the cosine similarity matrix...\n",
      "Done computing similarity matrix.\n",
      "Computing the cosine similarity matrix...\n",
      "Done computing similarity matrix.\n",
      "Computing the cosine similarity matrix...\n",
      "Done computing similarity matrix.\n",
      "Computing the cosine similarity matrix...\n",
      "Done computing similarity matrix.\n",
      "Computing the cosine similarity matrix...\n",
      "Done computing similarity matrix.\n",
      "Computing the cosine similarity matrix...\n",
      "Done computing similarity matrix.\n",
      "Computing the cosine similarity matrix...\n",
      "Done computing similarity matrix.\n",
      "Computing the cosine similarity matrix...\n",
      "Done computing similarity matrix.\n",
      "Computing the cosine similarity matrix...\n",
      "Done computing similarity matrix.\n",
      "Computing the cosine similarity matrix...\n",
      "Done computing similarity matrix.\n",
      "Computing the cosine similarity matrix...\n",
      "Done computing similarity matrix.\n",
      "Computing the cosine similarity matrix...\n",
      "Done computing similarity matrix.\n",
      "Computing the cosine similarity matrix...\n",
      "Done computing similarity matrix.\n",
      "Computing the cosine similarity matrix...\n",
      "Done computing similarity matrix.\n",
      "Computing the cosine similarity matrix...\n",
      "Done computing similarity matrix.\n",
      "Computing the cosine similarity matrix...\n",
      "Done computing similarity matrix.\n",
      "Computing the cosine similarity matrix...\n",
      "Done computing similarity matrix.\n",
      "Computing the cosine similarity matrix...\n",
      "Done computing similarity matrix.\n",
      "Computing the cosine similarity matrix...\n",
      "Done computing similarity matrix.\n",
      "Computing the cosine similarity matrix...\n",
      "Done computing similarity matrix.\n",
      "Computing the cosine similarity matrix...\n",
      "Done computing similarity matrix.\n",
      "Computing the cosine similarity matrix...\n",
      "Done computing similarity matrix.\n",
      "Computing the cosine similarity matrix...\n",
      "Done computing similarity matrix.\n",
      "Computing the pearson similarity matrix...\n",
      "Done computing similarity matrix.\n",
      "Computing the pearson similarity matrix...\n",
      "Done computing similarity matrix.\n",
      "Computing the pearson similarity matrix...\n",
      "Done computing similarity matrix.\n",
      "Computing the pearson similarity matrix...\n",
      "Done computing similarity matrix.\n",
      "Computing the pearson similarity matrix...\n",
      "Done computing similarity matrix.\n",
      "Computing the pearson similarity matrix...\n",
      "Done computing similarity matrix.\n",
      "Computing the pearson similarity matrix...\n",
      "Done computing similarity matrix.\n",
      "Computing the pearson similarity matrix...\n",
      "Done computing similarity matrix.\n",
      "Computing the pearson similarity matrix...\n",
      "Done computing similarity matrix.\n",
      "Computing the pearson similarity matrix...\n",
      "Done computing similarity matrix.\n",
      "Computing the pearson similarity matrix...\n",
      "Done computing similarity matrix.\n",
      "Computing the pearson similarity matrix...\n",
      "Done computing similarity matrix.\n",
      "Computing the pearson similarity matrix...\n",
      "Done computing similarity matrix.\n",
      "Computing the pearson similarity matrix...\n",
      "Done computing similarity matrix.\n",
      "Computing the pearson similarity matrix...\n",
      "Done computing similarity matrix.\n",
      "Computing the pearson similarity matrix...\n",
      "Done computing similarity matrix.\n",
      "Computing the pearson similarity matrix...\n",
      "Done computing similarity matrix.\n",
      "Computing the pearson similarity matrix...\n",
      "Done computing similarity matrix.\n",
      "Computing the pearson similarity matrix...\n",
      "Done computing similarity matrix.\n",
      "Computing the pearson similarity matrix...\n",
      "Done computing similarity matrix.\n",
      "Computing the pearson similarity matrix...\n",
      "Done computing similarity matrix.\n",
      "Computing the pearson similarity matrix...\n",
      "Done computing similarity matrix.\n",
      "Computing the pearson similarity matrix...\n",
      "Done computing similarity matrix.\n",
      "Computing the pearson similarity matrix...\n",
      "Done computing similarity matrix.\n",
      "Computing the pearson similarity matrix...\n",
      "Done computing similarity matrix.\n",
      "Computing the pearson similarity matrix...\n",
      "Done computing similarity matrix.\n",
      "Computing the pearson similarity matrix...\n",
      "Done computing similarity matrix.\n",
      "Computing the pearson similarity matrix...\n",
      "Done computing similarity matrix.\n",
      "Computing the pearson similarity matrix...\n",
      "Done computing similarity matrix.\n",
      "Computing the pearson similarity matrix...\n",
      "Done computing similarity matrix.\n",
      "Computing the pearson similarity matrix...\n",
      "Done computing similarity matrix.\n",
      "Computing the pearson similarity matrix...\n",
      "Done computing similarity matrix.\n",
      "Computing the pearson similarity matrix...\n",
      "Done computing similarity matrix.\n",
      "Computing the pearson similarity matrix...\n",
      "Done computing similarity matrix.\n",
      "Computing the pearson similarity matrix...\n",
      "Done computing similarity matrix.\n",
      "Computing the pearson similarity matrix...\n",
      "Done computing similarity matrix.\n",
      "Computing the pearson similarity matrix...\n",
      "Done computing similarity matrix.\n",
      "Computing the pearson similarity matrix...\n",
      "Done computing similarity matrix.\n",
      "Computing the pearson similarity matrix...\n",
      "Done computing similarity matrix.\n",
      "Computing the pearson similarity matrix...\n",
      "Done computing similarity matrix.\n",
      "Computing the pearson similarity matrix...\n",
      "Done computing similarity matrix.\n",
      "Computing the pearson similarity matrix...\n",
      "Done computing similarity matrix.\n",
      "Computing the pearson similarity matrix...\n",
      "Done computing similarity matrix.\n",
      "Computing the pearson similarity matrix...\n",
      "Done computing similarity matrix.\n",
      "Computing the pearson similarity matrix...\n",
      "Done computing similarity matrix.\n",
      "Computing the pearson similarity matrix...\n",
      "Done computing similarity matrix.\n",
      "Computing the pearson similarity matrix...\n",
      "Done computing similarity matrix.\n",
      "Computing the pearson similarity matrix...\n",
      "Done computing similarity matrix.\n",
      "Computing the pearson similarity matrix...\n",
      "Done computing similarity matrix.\n",
      "Computing the pearson similarity matrix...\n",
      "Done computing similarity matrix.\n",
      "Computing the pearson similarity matrix...\n",
      "Done computing similarity matrix.\n",
      "Computing the pearson similarity matrix...\n",
      "Done computing similarity matrix.\n",
      "Computing the pearson similarity matrix...\n",
      "Done computing similarity matrix.\n",
      "Computing the pearson similarity matrix...\n",
      "Done computing similarity matrix.\n",
      "Computing the pearson similarity matrix...\n",
      "Done computing similarity matrix.\n"
     ]
    }
   ],
   "source": [
    "# Cross-validation and hyperparameters-tuning\n",
    "rmse_scores_cos, lowest_rmse_cos, optimal_k_cos = gridSearch(np.concatenate((np.arange(5,55,5), [500])), 'cosine', ratings)\n",
    "rmse_scores_pear, lowest_rmse_pear, optimal_k_pear = gridSearch(np.concatenate((np.arange(5,55,5), [500])), 'pearson', ratings)"
   ]
  },
  {
   "cell_type": "code",
   "execution_count": 72,
   "metadata": {
    "colab": {
     "base_uri": "https://localhost:8080/",
     "height": 350
    },
    "id": "8KiKZrlHmy-E",
    "outputId": "6e6290c1-0e41-4138-f64d-724139eb240e"
   },
   "outputs": [
    {
     "data": {
      "image/png": "[encoded data removed]",
      "text/plain": [
       "<Figure size 1080x360 with 2 Axes>"
      ]
     },
     "metadata": {
      "needs_background": "light"
     },
     "output_type": "display_data"
    }
   ],
   "source": [
    "# Visualization of results\n",
    "import matplotlib.pyplot as plt\n",
    "\n",
    "k_options = np.concatenate((np.arange(5,55,5), [500]))\n",
    "k_labels = [str(i) for i in k_options]\n",
    "\n",
    "fig, ax = plt.subplots(1, 2, figsize = (15, 5))\n",
    "\n",
    "ax[0].plot(rmse_scores_cos)\n",
    "ax[0].set_xticks(np.arange(0,11, 1))\n",
    "ax[0].set_xticklabels(k_labels)\n",
    "ax[0].set_xlabel('k')\n",
    "ax[0].set_ylabel('RMSE')\n",
    "ax[0].set_title('RMSE per k neighbors - cosine similarity')\n",
    "\n",
    "ax[1].plot(rmse_scores_pear)\n",
    "ax[1].set_xticks(np.arange(0,11, 1))\n",
    "ax[1].set_xticklabels(k_labels)\n",
    "ax[1].set_xlabel('k')\n",
    "ax[1].set_ylabel('RMSE')\n",
    "ax[1].set_title('RMSE per k neighbors - pearson similarity')\n",
    "\n",
    "plt.show()"
   ]
  },
  {
   "cell_type": "code",
   "execution_count": 73,
   "metadata": {
    "colab": {
     "base_uri": "https://localhost:8080/"
    },
    "id": "Smeh_0FEm4YW",
    "outputId": "8c9834c2-6b95-4575-b12a-d72b260f45a7"
   },
   "outputs": [
    {
     "name": "stdout",
     "output_type": "stream",
     "text": [
      "the optimal similarity measure is pearson similarity with an optimal k of 30\n"
     ]
    }
   ],
   "source": [
    "# Optimal parameters\n",
    "if lowest_rmse_cos < lowest_rmse_pear:\n",
    "    opt_sim = 'cosine'\n",
    "    opt_k = optimal_k_cos\n",
    "    print('the optimal similarity measure is cosine similarity with an optimal k of', opt_k)\n",
    "\n",
    "else:\n",
    "    opt_sim = 'pearson'\n",
    "    opt_k = optimal_k_pear\n",
    "    print('the optimal similarity measure is pearson similarity with an optimal k of', opt_k)\n"
   ]
  },
  {
   "cell_type": "markdown",
   "metadata": {
    "id": "EtvTMPw6pFnL"
   },
   "source": [
    "We can see that we obtain the best RMSE with pearson similarity measure and with a number of neighbors k = 30. We now fit our train set with these hyperparameters and predict the results on our test set, before computing the precision, recall, and novelty."
   ]
  },
  {
   "cell_type": "code",
   "execution_count": 75,
   "metadata": {},
   "outputs": [
    {
     "name": "stdout",
     "output_type": "stream",
     "text": [
      "Computing the pearson similarity matrix...\n",
      "Done computing similarity matrix.\n",
      "RMSE: 0.8343\n"
     ]
    }
   ],
   "source": [
    "#Format change for trainset (necessary for surprise)\n",
    "trainset = ratings.build_full_trainset()\n",
    "testset = ratings_test.raw_ratings\n",
    "testset = ratings.construct_testset(testset)\n",
    "\n",
    "opt_model = KNNWithMeans(sim_options ={'name': 'pearson', 'user_based':False}, k = optimal_k_pear)\n",
    "\n",
    "opt_model.fit(trainset)\n",
    "results = opt_model.test(testset)\n",
    "\n",
    "test_result = opt_model.test(testset)\n",
    "test_rmse = accuracy.rmse(test_result)\n",
    "\n",
    "# get dictionary and df to use for precision and recall\n",
    "test_item = pd.DataFrame(test_result).sort_values(['uid','est'],ascending=False).groupby('uid').head(10)\n",
    "test_item = test_item.rename(columns={\"uid\": \"userId\", \"est\": \"rating\", \"iid\": \"movieId\"})\n",
    "test_item_temp = test_item.groupby(['userId'])['movieId'].agg(lambda x: list(x))\n",
    "test_item_dict = {}\n",
    "for user, watched_movies in zip(test_item_temp.index, test_item_temp):\n",
    "    test_item_dict[user] = watched_movies"
   ]
  },
  {
   "cell_type": "code",
   "execution_count": 76,
   "metadata": {
    "colab": {
     "base_uri": "https://localhost:8080/"
    },
    "id": "1L6KinYKqA58",
    "outputId": "f8844781-3fd9-493f-e8bc-2c78bf7aa510"
   },
   "outputs": [],
   "source": [
    "cf_precision = precision(test_item_dict, test_item)\n",
    "cf_recall = recall(test_item_dict, test_item)\n",
    "cf_novelty = novelty(test_item_dict)"
   ]
  },
  {
   "cell_type": "code",
   "execution_count": 77,
   "metadata": {
    "colab": {
     "base_uri": "https://localhost:8080/"
    },
    "id": "6y67xFXHr0X5",
    "outputId": "d207d3a8-dd46-41ad-95c3-68836983c0a8"
   },
   "outputs": [
    {
     "name": "stdout",
     "output_type": "stream",
     "text": [
      "The precision of our best Item-Based CF model is: 0.72\n",
      "The recall of our best Item-Based CF model is: 1.0\n",
      "The novelty of our best Item-Based CF model is: 8.25\n"
     ]
    }
   ],
   "source": [
    "print('The precision of our best Item-Based CF model is:', round(cf_precision,2))\n",
    "print('The recall of our best Item-Based CF model is:', round(cf_recall,2))\n",
    "print('The novelty of our best Item-Based CF model is:',  round(cf_novelty,2))"
   ]
  },
  {
   "cell_type": "code",
   "execution_count": 78,
   "metadata": {},
   "outputs": [],
   "source": [
    "# save and output recommendations\n",
    "user_recs = {}\n",
    "for user in test_item['userId'].unique():\n",
    "    user_item = test_item[test_item['userId'] == user]\n",
    "    best_movies = list(user_item['movieId'].head(10))\n",
    "    user_recs[user] = best_movies"
   ]
  },
  {
   "cell_type": "code",
   "execution_count": 79,
   "metadata": {},
   "outputs": [],
   "source": [
    "# pickle model - need to get actual predictions\n",
    "file_to_write = open(\"outputs/item_based.pickle\", \"wb\")\n",
    "pickle.dump(user_recs, file_to_write)"
   ]
  },
  {
   "cell_type": "markdown",
   "metadata": {},
   "source": [
    "### 5. Hybrid Model"
   ]
  },
  {
   "cell_type": "markdown",
   "metadata": {},
   "source": [
    "Below, we built our hybrid models by combining model recommendations from an Item-Based Collaborative Filtering model, an Autoencoder model, and a Content-Based model. For more information on how we built and evaluated the Autoencoder and Content-Based algorithms, please see the Deep_Learning_Model_Autoencoders and Content-based notebooks, respectively.\n",
    "\n",
    "For all three of the hybrid models, we output up to 10 recommended movies per user in a dictionary format with key = userId and value = a list of recommended movies for that user. We then pickled all these dictionaries and stored them in the output/ folder to make the models' recommendations easy to retrieve and combine in the following hybrid models. \n",
    "\n",
    "First, we split the datasets into the quantile user groups as mentioned in our introductory section. We make different data splits for each of our three hybrid models according to their format."
   ]
  },
  {
   "cell_type": "markdown",
   "metadata": {},
   "source": [
    "#### 5.1 Splitting the datasets for routing into correct hybrid model"
   ]
  },
  {
   "cell_type": "code",
   "execution_count": 8,
   "metadata": {},
   "outputs": [],
   "source": [
    "#splitting datasets based on quartile for number of movies watched\n",
    "def user_split(data, split_at_quantile_lst):\n",
    "    if len(split_at_quantile_lst) == 1:\n",
    "        distribution = pd.DataFrame(data['userId'].value_counts().rename_axis('userId').reset_index(name = 'counts'))\n",
    "        thresh = distribution.counts.quantile(split_at_quantile_lst[0])\n",
    "        user_ids_below = distribution[distribution.counts <= thresh]\n",
    "        user_ids_below = user_ids_below['userId'].to_list()\n",
    "        user_ids_above = distribution[distribution.counts > thresh]\n",
    "        user_ids_above = user_ids_above['userId'].to_list()\n",
    "        data_below = data[data['userId'].isin(user_ids_below)]\n",
    "        data_above = data[data['userId'].isin(user_ids_above)]\n",
    "        return data_below, data_above\n",
    "    elif len(split_at_quantile_lst) == 2:\n",
    "        distribution = pd.DataFrame(data['userId'].value_counts().rename_axis('userId').reset_index(name = 'counts'))\n",
    "        thresh = distribution.counts.quantile(split_at_quantile_lst[0])\n",
    "        user_ids_low = distribution[distribution.counts <= thresh]\n",
    "        user_ids_low = user_ids_low['userId'].to_list()\n",
    "        thresh2 = distribution.counts.quantile(split_at_quantile_lst[1])\n",
    "        user_ids_middle = distribution[(distribution.counts <= thresh2) & (distribution.counts > thresh)]\n",
    "        user_ids_middle = user_ids_middle['userId'].to_list()\n",
    "        user_ids_high = distribution[distribution.counts > thresh2]\n",
    "        user_ids_high = user_ids_high['userId'].to_list()\n",
    "        data_lowest = data[data['userId'].isin(user_ids_low)]\n",
    "        data_middle = data[data['userId'].isin(user_ids_middle)]\n",
    "        data_high = data[data['userId'].isin(user_ids_high)]\n",
    "        return data_lowest, data_middle, data_high"
   ]
  },
  {
   "cell_type": "markdown",
   "metadata": {},
   "source": [
    "Here are the various formats of the three hybrid models we try.\n",
    "\n",
    "(1) Hybrid Model 1\n",
    "\n",
    "> User group 1 (<25th percentile of movies watched)           ---->     Content-Based Model  <br>\n",
    "> User group 2 (>25th, <75th percentile of movies watched)    ---->     Item-Based Collaborative Filtering <br>\n",
    "> User group 3 (>75th percentile of movies watched)           ---->     Autoencoder   <br>\n",
    "\n",
    "(2) Hybrid Model 2\n",
    "\n",
    "> User group 1 and 2 (<75th percentile of movies watched)     ---->     Item-Based Collaborative Filtering <br>\n",
    "> User group 3 (>75th percentile of movies watched)           ---->     Autoencoder   <br>\n",
    "\n",
    "(3) Hybrid Model 3\n",
    "\n",
    "> User group 1 (<25th percentile of movies watched)           ---->     Content-Based Model  <br>\n",
    "> User group 2 and 3 (>25th percentile of movies watched)     ---->     Item-Based Collaborative Filtering <br>"
   ]
  },
  {
   "cell_type": "code",
   "execution_count": 12,
   "metadata": {},
   "outputs": [],
   "source": [
    "#model 1 sets\n",
    "content_train1, cf_train1, autoencoder_train1 = user_split(train_ratings, [0.25, 0.75])\n",
    "content_val1, cf_val1, autoencoder_val1 = user_split(val_ratings, [0.25, 0.75])\n",
    "content_test1, cf_test1, autoencoder_test1 = user_split(test_ratings, [0.25, 0.75])\n",
    "\n",
    "#model 2 sets\n",
    "cf_train2, autoencoder_train2 = user_split(train_ratings, [0.75])\n",
    "cf_val2, autoencoder_val2 = user_split(val_ratings, [0.75])\n",
    "cf_test2, autoencoder_test2 = user_split(test_ratings, [0.75])\n",
    "\n",
    "#model 3 sets\n",
    "content_train3, cf_train3 = user_split(train_ratings, [0.25])\n",
    "content_val3, cf_val3 = user_split(val_ratings, [0.25])\n",
    "content_test3, cf_test3 = user_split(test_ratings, [0.25])"
   ]
  },
  {
   "cell_type": "markdown",
   "metadata": {},
   "source": [
    "Next, we read in the recommendations for each user in our test set. As mentioned above, we pickled the dictionaries with recommended outputs for each user for all trained models for easy access and use in the hybrid model. We get the relevant ratings for each user based on which user group they fall into (based on # movies rated) and essentially concatenate the dictionary recommendations so that we have one dictionary for each of our three hybrid systems."
   ]
  },
  {
   "cell_type": "code",
   "execution_count": 13,
   "metadata": {},
   "outputs": [],
   "source": [
    "cf_dict = pickle.load(open( \"outputs/item_based.pickle\", \"rb\"))\n",
    "ae_dict = pickle.load(open(\"outputs/DL_recommendations.pickle\", \"rb\"))\n",
    "content_dict = pickle.load(open(\"outputs/all_content_recommendations.pickle\", \"rb\"))"
   ]
  },
  {
   "cell_type": "code",
   "execution_count": 14,
   "metadata": {},
   "outputs": [],
   "source": [
    "# create 3 dicts for item-based cf (one for each system)\n",
    "cf_dict1 = {key: value for key, value in cf_dict.items() if key in cf_test1['userId'].unique()}\n",
    "cf_dict2 = {key: value for key, value in cf_dict.items() if key in cf_test2['userId'].unique()}\n",
    "cf_dict3 = {key: value for key, value in cf_dict.items() if key in cf_test3['userId'].unique()}"
   ]
  },
  {
   "cell_type": "code",
   "execution_count": 15,
   "metadata": {},
   "outputs": [],
   "source": [
    "# create 2 dicts for content-based (one for system 1 and one for system 3)\n",
    "content_dict1 = {key: value for key, value in content_dict.items() if key in content_test1['userId'].unique()}\n",
    "content_dict3 = {key: value for key, value in content_dict.items() if key in content_test3['userId'].unique()}"
   ]
  },
  {
   "cell_type": "code",
   "execution_count": 16,
   "metadata": {},
   "outputs": [],
   "source": [
    "# concatenate so we have one overall dictionary per system\n",
    "hybrid1_recs = content_dict1.copy()\n",
    "hybrid1_recs.update(cf_dict1)\n",
    "hybrid1_recs.update(ae_dict)\n",
    "\n",
    "hybrid2_recs = cf_dict2.copy()\n",
    "hybrid2_recs.update(ae_dict)\n",
    "\n",
    "hybrid3_recs = content_dict3.copy()\n",
    "hybrid3_recs.update(cf_dict3)"
   ]
  },
  {
   "cell_type": "markdown",
   "metadata": {},
   "source": [
    "#### 5.2 Model Evaluation\n",
    "Here, we evaluate each of the three hybrid models to find the best one and use that in the following section as our ultimate recommender system."
   ]
  },
  {
   "cell_type": "code",
   "execution_count": 86,
   "metadata": {},
   "outputs": [],
   "source": [
    "# for each system, get precision, recall, and novelty\n",
    "hybrid1_precision = precision(hybrid1_recs, test_ratings)\n",
    "hybrid2_precision = precision(hybrid2_recs, test_ratings)\n",
    "hybrid3_precision = precision(hybrid3_recs, test_ratings)\n",
    "\n",
    "hybrid1_recall = recall(hybrid1_recs, test_ratings)\n",
    "hybrid2_recall = recall(hybrid2_recs, test_ratings)\n",
    "hybrid3_recall = recall(hybrid3_recs, test_ratings)\n",
    "\n",
    "hybrid1_novelty = novelty(hybrid1_recs)\n",
    "hybrid2_novelty = novelty(hybrid2_recs)\n",
    "hybrid3_novelty = novelty(hybrid3_recs)"
   ]
  },
  {
   "cell_type": "code",
   "execution_count": 87,
   "metadata": {
    "scrolled": true
   },
   "outputs": [
    {
     "data": {
      "text/html": [
       "<table>\n",
       "<tbody>\n",
       "<tr><td>                                  </td><td>Precision</td><td>Recall</td><td>Novelty</td></tr>\n",
       "<tr><td>Baseline                          </td><td>0.71     </td><td>0.81  </td><td>8.23   </td></tr>\n",
       "<tr><td>Item-Based Collaborative Filtering</td><td>0.72     </td><td>1.0   </td><td>8.25   </td></tr>\n",
       "<tr><td>Hybrid Model 1                    </td><td>0.32     </td><td>0.37  </td><td>8.65   </td></tr>\n",
       "<tr><td>Hybrid Model 2                    </td><td>0.57     </td><td>0.73  </td><td>7.49   </td></tr>\n",
       "<tr><td>Hybrid Model 3                    </td><td>0.47     </td><td>0.46  </td><td>9.39   </td></tr>\n",
       "</tbody>\n",
       "</table>"
      ],
      "text/plain": [
       "<IPython.core.display.HTML object>"
      ]
     },
     "metadata": {},
     "output_type": "display_data"
    }
   ],
   "source": [
    "table = [[\"\", \"Precision\", \"Recall\", \"Novelty\"],\n",
    "         [\"Baseline\", round(baseline_precision, 2), round(baseline_recall, 2), round(baseline_novelty, 2)],\n",
    "         [\"Item-Based Collaborative Filtering\", round(cf_precision, 2), round(cf_recall, 2), round(cf_novelty, 2)],\n",
    "         [\"Hybrid Model 1\", round(hybrid1_precision, 2), round(hybrid1_recall, 2), round(hybrid1_novelty, 2)],\n",
    "         [\"Hybrid Model 2\", round(hybrid2_precision, 2), round(hybrid2_recall, 2), round(hybrid2_novelty, 2)],\n",
    "         [\"Hybrid Model 3\", round(hybrid3_precision, 2), round(hybrid3_recall, 2), round(hybrid3_novelty, 2)]]\n",
    "display(HTML(tabulate.tabulate(table, tablefmt='html')))"
   ]
  },
  {
   "cell_type": "code",
   "execution_count": 119,
   "metadata": {},
   "outputs": [],
   "source": [
    "#pickle the best hybrid model - model 2\n",
    "file_to_write = open(\"outputs/hybrid2_recs.pickle\", \"wb\")\n",
    "pickle.dump(hybrid2_recs, file_to_write)"
   ]
  },
  {
   "cell_type": "markdown",
   "metadata": {},
   "source": [
    "### 6. Recommendations and Conclusion"
   ]
  },
  {
   "cell_type": "markdown",
   "metadata": {},
   "source": [
    "Interestingly enough, our best hybrid model in terms of precision and recall is number 2, which uses Item-Based Collaborative Filtering for all users below the 75th percentile of number of movies watched and Autoencoders for users above the 75th percentile. This perhaps implies that the content-based model did not work particularly well and ultimately was unable to solve the cold start problem for CF. Thus, we proceed onwards with hybrid model 2 to make recommendations."
   ]
  },
  {
   "cell_type": "markdown",
   "metadata": {},
   "source": [
    "Below, we create a function that returns the names of the Top 10 recommended movies from our second hybrid system for any user of interest. Because we want this function to run completely end to end, we recreate our recommendation dictionary again inside."
   ]
  },
  {
   "cell_type": "code",
   "execution_count": 122,
   "metadata": {},
   "outputs": [],
   "source": [
    "def recommend_movies(user):\n",
    "    # import movies so we can show titles\n",
    "    movies = pd.read_csv(\"inputs/movies.csv\")\n",
    "    movies_dict = dict(zip(movies.movieId, movies.title))\n",
    "    #load the recommendations\n",
    "    hybrid2_recs = pickle.load(open(\"outputs/hybrid2_recs.pickle\",\"rb\"))\n",
    "    #get movie ids\n",
    "    movie_recs = hybrid2_recs[user]\n",
    "    #look up movie titles and rank them\n",
    "    movie_titles = []\n",
    "    i = 1\n",
    "    for movie in movie_recs:\n",
    "        #clean title\n",
    "        t = movies_dict[movie]\n",
    "        t = str.strip(t)\n",
    "        clean_title = t[:-7]\n",
    "        if('The' in clean_title[-3:]):\n",
    "            clean_title = 'The ' + clean_title[:-5]\n",
    "        if('A' in clean_title[-1:]):\n",
    "            clean_title = 'A ' + clean_title[:-3]\n",
    "        movie_titles.append(str(i) + '. ' + str(clean_title))\n",
    "        i += 1\n",
    "    #output recs for user\n",
    "    print(\"Based on your viewing history, we recommend the following movies for you to try next: \\n \\t\" + '\\n \\t'.join([str(m) for m in movie_titles]))"
   ]
  },
  {
   "cell_type": "markdown",
   "metadata": {},
   "source": [
    "We show recommendations for one user who was routed to the item-based algorithm and one user who was routed to the autoencoder algorithm by randomly selecting one user from each of the corresponding test sets. We take a qualitative look at these recommendations and also show them as a proof of concept."
   ]
  },
  {
   "cell_type": "code",
   "execution_count": 24,
   "metadata": {},
   "outputs": [],
   "source": [
    "#commented out in order to maintain the same users\n",
    "#randomly select one user from item-based\n",
    "#cf_test2 = cf_test2.reset_index()\n",
    "#random1 = random.randint(0,len(cf_test2))\n",
    "#user1 = cf_test2.loc[random1,'userId']\n",
    "#randomly select one user from autoencoders\n",
    "#autoencoder_test2 = autoencoder_test2.reset_index()\n",
    "#random2 = random.randint(0,len(autoencoder_test2))\n",
    "#user2 = autoencoder_test2.loc[random2,'userId']"
   ]
  },
  {
   "cell_type": "code",
   "execution_count": 118,
   "metadata": {},
   "outputs": [
    {
     "name": "stdout",
     "output_type": "stream",
     "text": [
      "The user we selected from the item-based group is User 26764\n",
      "The user we selected from the autoencoder group is User 113660\n"
     ]
    }
   ],
   "source": [
    "#print(\"The user we selected from the item-based group is User \" + str(user1) + \"\\n\" +\n",
    "#     \"The user we selected from the autoencoder group is User \" + str(user2))"
   ]
  },
  {
   "cell_type": "markdown",
   "metadata": {},
   "source": [
    "First, we look at User 26764, who has rated 14 movies, placing him in the first quartile and routing him to the item-based algorithm. Our recommendations below are quite cohesive - we can deduce that this user is probably interested in action movies - yet the recommendations still offer a wide range of movies that fit into this genre (i.e. movies from wartime, like Courage Under Fire and The English Patient, are recommended, but so are fantasy movies, like Highlander and Star Wars)."
   ]
  },
  {
   "cell_type": "code",
   "execution_count": 123,
   "metadata": {},
   "outputs": [
    {
     "name": "stdout",
     "output_type": "stream",
     "text": [
      "Based on your viewing history, we recommend the following movies for you to try next: \n",
      " \t1. Wallace & Gromit: The Best of Aardman Animation\n",
      " \t2. Indiana Jones and the Last Crusade\n",
      " \t3. Star Wars: Episode VI - Return of the Jedi\n",
      " \t4. Before Sunrise\n",
      " \t5. The Last of the Mohicans\n",
      " \t6. Highlander\n",
      " \t7. A Time to Kill\n",
      " \t8. Courage Under Fire\n",
      " \t9. The English Patient\n",
      " \t10. Twister\n"
     ]
    }
   ],
   "source": [
    "recommend_movies(26764)"
   ]
  },
  {
   "cell_type": "markdown",
   "metadata": {},
   "source": [
    "Next, we look at User 113660, a frequent movie watcher (has rated 38 movies total) who we used the autoencoders to recommend movies to. This user also appears to enjoy action movies, and is even recommended 2 of the same movies as is our previous user (Star Wars and Indiana Jones; it is also likely that these two movies were quite popular). However, we can see that the types of action movies are quite different from our previous user and that this user's taste also appears to be more varied (recommendations include Being John Malkovich, a comedy, and two thrillers: Silence of the Lambs and Memento)."
   ]
  },
  {
   "cell_type": "code",
   "execution_count": 124,
   "metadata": {},
   "outputs": [
    {
     "name": "stdout",
     "output_type": "stream",
     "text": [
      "Based on your viewing history, we recommend the following movies for you to try next: \n",
      " \t1. The Silence of the Lambs\n",
      " \t2. The Lord of the Rings: The Fellowship of the Ring\n",
      " \t3. Memento\n",
      " \t4. The Princess Bride\n",
      " \t5. Star Wars: Episode VI - Return of the Jedi\n",
      " \t6. Taxi Driver\n",
      " \t7. Indiana Jones and the Last Crusade\n",
      " \t8. Terminator 2: Judgment Day\n",
      " \t9. Being John Malkovich\n",
      " \t10. Die Hard\n"
     ]
    }
   ],
   "source": [
    "recommend_movies(113660)"
   ]
  },
  {
   "cell_type": "markdown",
   "metadata": {},
   "source": [
    "Overall, we see some interesting results from our hybrid model. Two of our hybrid models are able to achieve higher novelty which indicates that perhaps these systems are able to provide more individualized recommendations to the users, even if they are not necessarily movies that the user will like more. However, all of the hybrid models performed worse than both the baseline and the item-based collaborative filtering model in terms of precision and recall. These results are relatively surprising because we had hoped the content-based model could help with collaborative filtering's cold start problem. By incorporating in various sources like MovieLens tag data as well as the abundant Wikipedia data we scraped, we had hoped to create great movie representations. Perhaps, however, the very high number of tags and Wiki terms actually created overly high dimensional movie vectors that could not generalize well. We also thought Autoencoders could be an exciting technique for the most frequent movie watcher group, but these results actually show that sometimes the simplest models are truly good enough (if not the best).\n",
    "\n",
    "We specifically focused on creating hybrid models that addressed user groups differently based on their rating frequency, but it seems that baseline and collaborative filtering handle these user groups better than content-based and deep learning. Future work could involve more intentional user segmentation by examining the CF cold start problem more closely.\n",
    "\n",
    "Another limitation of our model's output is that not all users are actually given 10 recommendations, which would not be very useful for an actual company's solution. This is a potential watchout, but in the future, we could try combining various models' outputs in order to guarantee 10 recommendations per user.\n",
    "\n",
    "Our final recommendation to the manager would simply be to use the item-based recommender system over the hybrid system. While novelty is a nice feature to have, ultimately we believe that the priority for the hiring manager should be to show the user movies that he will watch and enjoy. Therefore, when comparing hybrids on their own, we would recommend hybrid model 2 to the hiring manager, even though it has the lowest novelty of all of our models. However, across all models, our ultimate recommendation is to use the Item-Based Collaborative Filtering system due to its superior performance across all three metrics we measure. \n",
    "\n",
    "Finally, we would encourage the manager to try to experiment with other ensemble techniques. For example, instead of segregating users into groups based on certain criteria, we could instead try aggregating different models' predictions on all users. Additionally, we would recommend that the manager try utilizing user data, such as any demographic data the user provides when signing up to use the service or any other available information, such as search and click history, to try and improve recommendations, specifically for the cold start problem when little to no ratings are available."
   ]
  }
 ],
 "metadata": {
  "colab": {
   "name": "Personalization-Hw2.ipynb",
   "provenance": []
  },
  "kernelspec": {
   "display_name": "Python 3",
   "language": "python",
   "name": "python3"
  },
  "language_info": {
   "codemirror_mode": {
    "name": "ipython",
    "version": 3
   },
   "file_extension": ".py",
   "mimetype": "text/x-python",
   "name": "python",
   "nbconvert_exporter": "python",
   "pygments_lexer": "ipython3",
   "version": "3.7.9"
  }
 },
 "nbformat": 4,
 "nbformat_minor": 4
}
